{
  "nbformat": 4,
  "nbformat_minor": 0,
  "metadata": {
    "colab": {
      "provenance": [],
      "include_colab_link": true
    },
    "kernelspec": {
      "name": "python3",
      "display_name": "Python 3"
    },
    "language_info": {
      "name": "python"
    }
  },
  "cells": [
    {
      "cell_type": "markdown",
      "metadata": {
        "id": "view-in-github",
        "colab_type": "text"
      },
      "source": [
        "<a href=\"https://colab.research.google.com/github/MichaelBSBarros/aulas-datascience/blob/main/TendenciaCentral.ipynb\" target=\"_parent\"><img src=\"https://colab.research.google.com/assets/colab-badge.svg\" alt=\"Open In Colab\"/></a>"
      ]
    },
    {
      "cell_type": "code",
      "execution_count": null,
      "metadata": {
        "id": "r4tQzmNp91EO",
        "colab": {
          "base_uri": "https://localhost:8080/"
        },
        "outputId": "1a6316f4-cb53-44fc-917f-4865a37abbae"
      },
      "outputs": [
        {
          "output_type": "stream",
          "name": "stdout",
          "text": [
            "Median is: 186\n"
          ]
        }
      ],
      "source": [
        "n_num = [10,40,50436,10000,186]\n",
        "n = len(n_num)\n",
        "n_num.sort()\n",
        "  \n",
        "if n % 2 == 0:\n",
        "    median1 = n_num[n//2]\n",
        "    median2 = n_num[n//2 - 1]\n",
        "    median = (median1 + median2)/2\n",
        "else:\n",
        "    median = n_num[n//2]\n",
        "print(\"Median is: \" + str(median))"
      ]
    },
    {
      "cell_type": "code",
      "source": [
        "import statistics\n",
        "statistics.mode([\"cat\", \"dog\", \"dog\", \"cat\", \"monkey\", \"monkey\", \"dog\"])"
      ],
      "metadata": {
        "id": "g9oYZd3p_ftw",
        "colab": {
          "base_uri": "https://localhost:8080/",
          "height": 36
        },
        "outputId": "484a056e-9a54-44f4-845c-22d2bd26a8f5"
      },
      "execution_count": null,
      "outputs": [
        {
          "output_type": "execute_result",
          "data": {
            "text/plain": [
              "'dog'"
            ],
            "application/vnd.google.colaboratory.intrinsic+json": {
              "type": "string"
            }
          },
          "metadata": {},
          "execution_count": 7
        }
      ]
    },
    {
      "cell_type": "code",
      "source": [
        "from collections import Counter\n",
        "\n",
        "def my_mode(sample):\n",
        "     c = Counter(sample)\n",
        "     return [k for k, v in c.items() if v == c.most_common(1)[0][1]]\n",
        "\n",
        "#my_mode([\"male\", \"male\", \"female\", \"male\"])\n",
        "c = Counter([\"male\", \"male\", \"female\", \"male\"])\n",
        "\n",
        "print(c.most_common(1))"
      ],
      "metadata": {
        "id": "2VdShbvU_9XB"
      },
      "execution_count": null,
      "outputs": []
    },
    {
      "cell_type": "code",
      "source": [
        "import numpy as np\n",
        "n_num = [10,40,50436,10000,186]\n",
        "soma = np.sum(n_num)\n",
        "media = soma/len(n_num)\n",
        "media"
      ],
      "metadata": {
        "colab": {
          "base_uri": "https://localhost:8080/"
        },
        "id": "pPbQ5_tAn8VZ",
        "outputId": "4bb9279a-211b-469b-e904-e316950bc555"
      },
      "execution_count": null,
      "outputs": [
        {
          "output_type": "execute_result",
          "data": {
            "text/plain": [
              "12134.4"
            ]
          },
          "metadata": {},
          "execution_count": 5
        }
      ]
    },
    {
      "cell_type": "code",
      "source": [
        "import numpy as np\n",
        "n_num = [10,40,50436,10000,186]\n",
        "n_num.sort()\n",
        "del n_num[0]\n",
        "ultimo=len(n_num)-1\n",
        "del n_num[ultimo]\n",
        "soma = np.sum(n_num)\n",
        "media = soma/len(n_num)\n",
        "media"
      ],
      "metadata": {
        "colab": {
          "base_uri": "https://localhost:8080/"
        },
        "id": "oda-plILpJa7",
        "outputId": "13035366-c20f-4bf8-f902-ac471435ae55"
      },
      "execution_count": null,
      "outputs": [
        {
          "output_type": "execute_result",
          "data": {
            "text/plain": [
              "3408.6666666666665"
            ]
          },
          "metadata": {},
          "execution_count": 4
        }
      ]
    }
  ]
}