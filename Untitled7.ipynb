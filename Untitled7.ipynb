{
  "nbformat": 4,
  "nbformat_minor": 0,
  "metadata": {
    "colab": {
      "provenance": [],
      "include_colab_link": true
    },
    "kernelspec": {
      "name": "python3",
      "display_name": "Python 3"
    },
    "language_info": {
      "name": "python"
    }
  },
  "cells": [
    {
      "cell_type": "markdown",
      "metadata": {
        "id": "view-in-github",
        "colab_type": "text"
      },
      "source": [
        "<a href=\"https://colab.research.google.com/github/MichaelBSBarros/aulas-datascience/blob/main/Untitled7.ipynb\" target=\"_parent\"><img src=\"https://colab.research.google.com/assets/colab-badge.svg\" alt=\"Open In Colab\"/></a>"
      ]
    },
    {
      "cell_type": "code",
      "execution_count": null,
      "metadata": {
        "id": "d7JUK90Kdge_"
      },
      "outputs": [],
      "source": [
        "import pandas as pd\n",
        "import requests\n",
        "\n",
        "url=\"https://olinda.bcb.gov.br/olinda/servico/PTAX/versao/v1/odata/CotacaoDolarDia(dataCotacao=@dataCotacao)?@dataCotacao='11-27-2017'&$top=100&$format=json\"\n",
        "url2=\"https://servicodados.ibge.gov.br/api/v1/localidades/municipios\"\n",
        "request = requests.get(url)\n",
        "municipios = requests.get(url2)\n",
        "#print(request)\n",
        "print(municipios)"
      ]
    },
    {
      "cell_type": "code",
      "source": [
        "#saida=request.json()\n",
        "#saida\n",
        "#saida.keys()\n",
        "#saida['value']\n",
        "saidamun=municipios.json()\n",
        "nomeDosMunicipios=[]\n",
        "ids = []\n",
        "for saida in saidamun:\n",
        "  #print(saida.keys())\n",
        "  nomeDosMunicipios.append(saida['nome'])\n",
        "  ids.append(saida['id'])\n",
        "  #print(len(saidamun))"
      ],
      "metadata": {
        "id": "zJUBGcGHh287"
      },
      "execution_count": null,
      "outputs": []
    },
    {
      "cell_type": "code",
      "source": [
        "df = pd.DataFrame({\"id\":ids,\"nome\":nomeDosMunicipios})\n",
        "df.head(10)"
      ],
      "metadata": {
        "id": "5naQDmoqxE21"
      },
      "execution_count": null,
      "outputs": []
    },
    {
      "cell_type": "code",
      "source": [
        "df.to_csv('teste.csv')"
      ],
      "metadata": {
        "id": "pSji0dpzzHJ0"
      },
      "execution_count": null,
      "outputs": []
    },
    {
      "cell_type": "markdown",
      "source": [
        "# Nova seção"
      ],
      "metadata": {
        "id": "Hw_0huK0zbUF"
      }
    },
    {
      "cell_type": "code",
      "source": [
        "nomeDosMunicipios\n",
        "ids"
      ],
      "metadata": {
        "id": "3pgrTVOdvFmI"
      },
      "execution_count": null,
      "outputs": []
    }
  ]
}